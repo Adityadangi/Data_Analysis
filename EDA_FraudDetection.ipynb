{
 "cells": [
  {
   "cell_type": "markdown",
   "metadata": {},
   "source": [
    "#### Details about the fields in the file\n",
    " \n",
    "Signup-id – generated field for the sign-up attempt\n",
    "\n",
    "Discount-id (optional) – identifier for any discount provided during signup\n",
    "\n",
    "Email – email address for the user\n",
    "\n",
    "Company name (optional) – Organization name for the user\n",
    "\n",
    "Fname (optional) – First name\n",
    "\n",
    "Lname(optional) – Last Name\n",
    "\n",
    "CountryId – Identifier for the county of the user\n",
    "\n",
    "Area code – phone number area code\n",
    "\n",
    "Phone no – Cell phone number of the user\n",
    "\n",
    "Resellerid (optional) – If signup is through through a reseller, identifier of the reseller\n",
    "\n",
    "Credit_USD – The credit given to the user\n",
    "\n",
    "Info_1 – Cart identifier\n",
    "\n",
    "Info_2 – Ip address of the user\n",
    "\n",
    "Currency id – Currency of the country the user is from\n",
    "\n",
    "Creation date – Timestamp when signup is done\n",
    "\n",
    "Modify date – Timestamp when record is edited\n",
    "\n",
    "Status – Status code: 0 – signed up 1-verified, 2 – signup complete\n",
    "\n",
    "Auth-id – Authentication identifier\n",
    "\n",
    "Token-id – Token identifier\n",
    "\n",
    "Account-id – Identifier for the users account created in the system\n",
    "\n",
    "Interface – Source where sign up is done from (web, mobile app, partner)\n"
   ]
  },
  {
   "cell_type": "code",
   "execution_count": 394,
   "metadata": {
    "collapsed": true
   },
   "outputs": [],
   "source": [
    "#Importing all the neccesary modules\n",
    "import pandas as pd\n",
    "import numpy as np\n",
    "import matplotlib.pyplot as plt\n",
    "import seaborn as sns\n",
    "sns.set_style('whitegrid')\n",
    "%matplotlib inline"
   ]
  },
  {
   "cell_type": "code",
   "execution_count": 395,
   "metadata": {
    "collapsed": false
   },
   "outputs": [],
   "source": [
    "#Reading data\n",
    "\n",
    "feb17_df = pd.read_csv(\"feb17.csv\")\n",
    "july15_df = pd.read_csv(\"July15.csv\",encoding = \"ISO-8859-1\")"
   ]
  },
  {
   "cell_type": "code",
   "execution_count": 396,
   "metadata": {
    "collapsed": true
   },
   "outputs": [],
   "source": [
    "# Checking the data "
   ]
  },
  {
   "cell_type": "code",
   "execution_count": 397,
   "metadata": {
    "collapsed": false
   },
   "outputs": [
    {
     "data": {
      "text/html": [
       "<div>\n",
       "<table border=\"1\" class=\"dataframe\">\n",
       "  <thead>\n",
       "    <tr style=\"text-align: right;\">\n",
       "      <th></th>\n",
       "      <th>SIGNUP_ID</th>\n",
       "      <th>DISCOUNT_ID</th>\n",
       "      <th>EMAIL</th>\n",
       "      <th>COMPANYNAME</th>\n",
       "      <th>FNAME</th>\n",
       "      <th>LNAME</th>\n",
       "      <th>COUNTRYID</th>\n",
       "      <th>AREACODE</th>\n",
       "      <th>MOBILENUMBER</th>\n",
       "      <th>RESELLERID</th>\n",
       "      <th>...</th>\n",
       "      <th>INFO_2</th>\n",
       "      <th>CURRENCYID</th>\n",
       "      <th>CREATE_DATE</th>\n",
       "      <th>MODIFY_DATE</th>\n",
       "      <th>STATUS</th>\n",
       "      <th>AUTH_ID</th>\n",
       "      <th>TOKEN_ID</th>\n",
       "      <th>ACCOUNT_ID</th>\n",
       "      <th>INTERFACE</th>\n",
       "      <th></th>\n",
       "    </tr>\n",
       "  </thead>\n",
       "  <tbody>\n",
       "    <tr>\n",
       "      <th>0</th>\n",
       "      <td>10006613</td>\n",
       "      <td>NaN</td>\n",
       "      <td>angiekuo2@gmail.com</td>\n",
       "      <td>NaN</td>\n",
       "      <td>NaN</td>\n",
       "      <td>NaN</td>\n",
       "      <td>229</td>\n",
       "      <td>NaN</td>\n",
       "      <td>19734490747</td>\n",
       "      <td>NaN</td>\n",
       "      <td>...</td>\n",
       "      <td>68.194.7.230</td>\n",
       "      <td>1</td>\n",
       "      <td>07/01/2015 02:48:44</td>\n",
       "      <td>NaN</td>\n",
       "      <td>2</td>\n",
       "      <td>10006305</td>\n",
       "      <td>6755</td>\n",
       "      <td>5605729</td>\n",
       "      <td>NaN</td>\n",
       "      <td></td>\n",
       "    </tr>\n",
       "    <tr>\n",
       "      <th>1</th>\n",
       "      <td>10006614</td>\n",
       "      <td>NaN</td>\n",
       "      <td>alexkai1991@gmail.com</td>\n",
       "      <td>NaN</td>\n",
       "      <td>NaN</td>\n",
       "      <td>NaN</td>\n",
       "      <td>234</td>\n",
       "      <td>NaN</td>\n",
       "      <td>841668728338</td>\n",
       "      <td>NaN</td>\n",
       "      <td>...</td>\n",
       "      <td>113.160.61.98</td>\n",
       "      <td>1</td>\n",
       "      <td>07/01/2015 02:51:42</td>\n",
       "      <td>NaN</td>\n",
       "      <td>2</td>\n",
       "      <td>10006306</td>\n",
       "      <td>6756</td>\n",
       "      <td>5605730</td>\n",
       "      <td>NaN</td>\n",
       "      <td></td>\n",
       "    </tr>\n",
       "    <tr>\n",
       "      <th>2</th>\n",
       "      <td>10006673</td>\n",
       "      <td>NaN</td>\n",
       "      <td>laurenwhite820@yahoo.com</td>\n",
       "      <td>NaN</td>\n",
       "      <td>NaN</td>\n",
       "      <td>NaN</td>\n",
       "      <td>229</td>\n",
       "      <td>NaN</td>\n",
       "      <td>2348031946009</td>\n",
       "      <td>NaN</td>\n",
       "      <td>...</td>\n",
       "      <td>63.141.217.172</td>\n",
       "      <td>1</td>\n",
       "      <td>07/01/2015 08:25:49</td>\n",
       "      <td>NaN</td>\n",
       "      <td>2</td>\n",
       "      <td>10006365</td>\n",
       "      <td>6815</td>\n",
       "      <td>5605789</td>\n",
       "      <td>NaN</td>\n",
       "      <td></td>\n",
       "    </tr>\n",
       "    <tr>\n",
       "      <th>3</th>\n",
       "      <td>10006681</td>\n",
       "      <td>NaN</td>\n",
       "      <td>judliew87@gmail.com</td>\n",
       "      <td>NaN</td>\n",
       "      <td>NaN</td>\n",
       "      <td>NaN</td>\n",
       "      <td>130</td>\n",
       "      <td>NaN</td>\n",
       "      <td>60105667099</td>\n",
       "      <td>NaN</td>\n",
       "      <td>...</td>\n",
       "      <td>118.101.133.80</td>\n",
       "      <td>1</td>\n",
       "      <td>07/01/2015 08:40:18</td>\n",
       "      <td>NaN</td>\n",
       "      <td>2</td>\n",
       "      <td>10006373</td>\n",
       "      <td>6823</td>\n",
       "      <td>5605797</td>\n",
       "      <td>NaN</td>\n",
       "      <td></td>\n",
       "    </tr>\n",
       "    <tr>\n",
       "      <th>4</th>\n",
       "      <td>10006738</td>\n",
       "      <td>NaN</td>\n",
       "      <td>StMary@saintly.com</td>\n",
       "      <td>NaN</td>\n",
       "      <td>NaN</td>\n",
       "      <td>NaN</td>\n",
       "      <td>81</td>\n",
       "      <td>NaN</td>\n",
       "      <td>233574250244</td>\n",
       "      <td>NaN</td>\n",
       "      <td>...</td>\n",
       "      <td>41.215.170.82</td>\n",
       "      <td>1</td>\n",
       "      <td>07/01/2015 10:31:41</td>\n",
       "      <td>NaN</td>\n",
       "      <td>2</td>\n",
       "      <td>10006430</td>\n",
       "      <td>6880</td>\n",
       "      <td>5605854</td>\n",
       "      <td>NaN</td>\n",
       "      <td></td>\n",
       "    </tr>\n",
       "  </tbody>\n",
       "</table>\n",
       "<p>5 rows × 22 columns</p>\n",
       "</div>"
      ],
      "text/plain": [
       "   SIGNUP_ID  DISCOUNT_ID                     EMAIL COMPANYNAME FNAME LNAME  \\\n",
       "0   10006613          NaN       angiekuo2@gmail.com         NaN   NaN   NaN   \n",
       "1   10006614          NaN     alexkai1991@gmail.com         NaN   NaN   NaN   \n",
       "2   10006673          NaN  laurenwhite820@yahoo.com         NaN   NaN   NaN   \n",
       "3   10006681          NaN       judliew87@gmail.com         NaN   NaN   NaN   \n",
       "4   10006738          NaN        StMary@saintly.com         NaN   NaN   NaN   \n",
       "\n",
       "   COUNTRYID  AREACODE   MOBILENUMBER  RESELLERID ...          INFO_2  \\\n",
       "0        229       NaN    19734490747         NaN ...    68.194.7.230   \n",
       "1        234       NaN   841668728338         NaN ...   113.160.61.98   \n",
       "2        229       NaN  2348031946009         NaN ...  63.141.217.172   \n",
       "3        130       NaN    60105667099         NaN ...  118.101.133.80   \n",
       "4         81       NaN   233574250244         NaN ...   41.215.170.82   \n",
       "\n",
       "   CURRENCYID          CREATE_DATE  MODIFY_DATE STATUS   AUTH_ID  TOKEN_ID  \\\n",
       "0           1  07/01/2015 02:48:44          NaN      2  10006305      6755   \n",
       "1           1  07/01/2015 02:51:42          NaN      2  10006306      6756   \n",
       "2           1  07/01/2015 08:25:49          NaN      2  10006365      6815   \n",
       "3           1  07/01/2015 08:40:18          NaN      2  10006373      6823   \n",
       "4           1  07/01/2015 10:31:41          NaN      2  10006430      6880   \n",
       "\n",
       "   ACCOUNT_ID  INTERFACE     \n",
       "0     5605729        NaN     \n",
       "1     5605730        NaN     \n",
       "2     5605789        NaN     \n",
       "3     5605797        NaN     \n",
       "4     5605854        NaN     \n",
       "\n",
       "[5 rows x 22 columns]"
      ]
     },
     "execution_count": 397,
     "metadata": {},
     "output_type": "execute_result"
    }
   ],
   "source": [
    "july15_df.head()"
   ]
  },
  {
   "cell_type": "code",
   "execution_count": 398,
   "metadata": {
    "collapsed": false
   },
   "outputs": [
    {
     "data": {
      "text/html": [
       "<div>\n",
       "<table border=\"1\" class=\"dataframe\">\n",
       "  <thead>\n",
       "    <tr style=\"text-align: right;\">\n",
       "      <th></th>\n",
       "      <th>SIGNUP_ID</th>\n",
       "      <th>DISCOUNT_ID</th>\n",
       "      <th>EMAIL</th>\n",
       "      <th>COMPANYNAME</th>\n",
       "      <th>FNAME</th>\n",
       "      <th>LNAME</th>\n",
       "      <th>COUNTRYID</th>\n",
       "      <th>AREACODE</th>\n",
       "      <th>MOBILENUMBER</th>\n",
       "      <th>RESELLERID</th>\n",
       "      <th>...</th>\n",
       "      <th>INFO_2</th>\n",
       "      <th>CURRENCYID</th>\n",
       "      <th>CREATE_DATE</th>\n",
       "      <th>MODIFY_DATE</th>\n",
       "      <th>STATUS</th>\n",
       "      <th>AUTH_ID</th>\n",
       "      <th>TOKEN_ID</th>\n",
       "      <th>ACCOUNT_ID</th>\n",
       "      <th>INTERFACE</th>\n",
       "      <th></th>\n",
       "    </tr>\n",
       "  </thead>\n",
       "  <tbody>\n",
       "    <tr>\n",
       "      <th>0</th>\n",
       "      <td>10337496</td>\n",
       "      <td>NaN</td>\n",
       "      <td>nosiboxav@gmail.com</td>\n",
       "      <td>NaN</td>\n",
       "      <td>SGVkZGE=</td>\n",
       "      <td>R2lic29u</td>\n",
       "      <td>195</td>\n",
       "      <td>NaN</td>\n",
       "      <td>38269331507</td>\n",
       "      <td>NaN</td>\n",
       "      <td>...</td>\n",
       "      <td>37.235.53.158</td>\n",
       "      <td>2</td>\n",
       "      <td>02/01/2017 00:53:25</td>\n",
       "      <td>NaN</td>\n",
       "      <td>0</td>\n",
       "      <td>10358774</td>\n",
       "      <td>358360</td>\n",
       "      <td>5964892</td>\n",
       "      <td>NaN</td>\n",
       "      <td></td>\n",
       "    </tr>\n",
       "    <tr>\n",
       "      <th>1</th>\n",
       "      <td>10337644</td>\n",
       "      <td>NaN</td>\n",
       "      <td>musicmaker555@yahoo.com</td>\n",
       "      <td>NaN</td>\n",
       "      <td>am9obg==</td>\n",
       "      <td>TWNsb3VnaGlu</td>\n",
       "      <td>79</td>\n",
       "      <td>NaN</td>\n",
       "      <td>16466935370</td>\n",
       "      <td>NaN</td>\n",
       "      <td>...</td>\n",
       "      <td>212.72.159.179</td>\n",
       "      <td>3</td>\n",
       "      <td>02/01/2017 08:59:10</td>\n",
       "      <td>NaN</td>\n",
       "      <td>0</td>\n",
       "      <td>10358897</td>\n",
       "      <td>358483</td>\n",
       "      <td>5965040</td>\n",
       "      <td>NaN</td>\n",
       "      <td></td>\n",
       "    </tr>\n",
       "    <tr>\n",
       "      <th>2</th>\n",
       "      <td>10337646</td>\n",
       "      <td>NaN</td>\n",
       "      <td>promoj553@gmail.com</td>\n",
       "      <td>NaN</td>\n",
       "      <td>a2F0aGVyaW5l</td>\n",
       "      <td>SG9kZ2Vz</td>\n",
       "      <td>100</td>\n",
       "      <td>NaN</td>\n",
       "      <td>918447264166</td>\n",
       "      <td>NaN</td>\n",
       "      <td>...</td>\n",
       "      <td>106.222.46.139</td>\n",
       "      <td>1</td>\n",
       "      <td>02/01/2017 09:04:54</td>\n",
       "      <td>NaN</td>\n",
       "      <td>2</td>\n",
       "      <td>10358899</td>\n",
       "      <td>358485</td>\n",
       "      <td>5965042</td>\n",
       "      <td>NaN</td>\n",
       "      <td></td>\n",
       "    </tr>\n",
       "    <tr>\n",
       "      <th>3</th>\n",
       "      <td>10337698</td>\n",
       "      <td>NaN</td>\n",
       "      <td>turner90000@gmail.com</td>\n",
       "      <td>NaN</td>\n",
       "      <td>TW9oc2Vu</td>\n",
       "      <td>U0hhdGE=</td>\n",
       "      <td>63</td>\n",
       "      <td>NaN</td>\n",
       "      <td>201098883349</td>\n",
       "      <td>NaN</td>\n",
       "      <td>...</td>\n",
       "      <td>156.198.160.196</td>\n",
       "      <td>1</td>\n",
       "      <td>02/01/2017 10:57:08</td>\n",
       "      <td>NaN</td>\n",
       "      <td>2</td>\n",
       "      <td>10358961</td>\n",
       "      <td>358547</td>\n",
       "      <td>5965095</td>\n",
       "      <td>NaN</td>\n",
       "      <td></td>\n",
       "    </tr>\n",
       "    <tr>\n",
       "      <th>4</th>\n",
       "      <td>10337787</td>\n",
       "      <td>NaN</td>\n",
       "      <td>krissgraiz@Gmail.com</td>\n",
       "      <td>NaN</td>\n",
       "      <td>a3Jpc3M=</td>\n",
       "      <td>Z3JhaXo=</td>\n",
       "      <td>122</td>\n",
       "      <td>NaN</td>\n",
       "      <td>14016234634</td>\n",
       "      <td>NaN</td>\n",
       "      <td>...</td>\n",
       "      <td>41.254.0.28</td>\n",
       "      <td>1</td>\n",
       "      <td>02/01/2017 14:03:11</td>\n",
       "      <td>NaN</td>\n",
       "      <td>2</td>\n",
       "      <td>10359071</td>\n",
       "      <td>358657</td>\n",
       "      <td>5965184</td>\n",
       "      <td>NaN</td>\n",
       "      <td></td>\n",
       "    </tr>\n",
       "  </tbody>\n",
       "</table>\n",
       "<p>5 rows × 22 columns</p>\n",
       "</div>"
      ],
      "text/plain": [
       "   SIGNUP_ID  DISCOUNT_ID                    EMAIL  COMPANYNAME         FNAME  \\\n",
       "0   10337496          NaN      nosiboxav@gmail.com          NaN      SGVkZGE=   \n",
       "1   10337644          NaN  musicmaker555@yahoo.com          NaN      am9obg==   \n",
       "2   10337646          NaN      promoj553@gmail.com          NaN  a2F0aGVyaW5l   \n",
       "3   10337698          NaN    turner90000@gmail.com          NaN      TW9oc2Vu   \n",
       "4   10337787          NaN     krissgraiz@Gmail.com          NaN      a3Jpc3M=   \n",
       "\n",
       "          LNAME  COUNTRYID  AREACODE  MOBILENUMBER  RESELLERID ...  \\\n",
       "0      R2lic29u        195       NaN   38269331507         NaN ...   \n",
       "1  TWNsb3VnaGlu         79       NaN   16466935370         NaN ...   \n",
       "2      SG9kZ2Vz        100       NaN  918447264166         NaN ...   \n",
       "3      U0hhdGE=         63       NaN  201098883349         NaN ...   \n",
       "4      Z3JhaXo=        122       NaN   14016234634         NaN ...   \n",
       "\n",
       "            INFO_2  CURRENCYID          CREATE_DATE  MODIFY_DATE STATUS  \\\n",
       "0    37.235.53.158           2  02/01/2017 00:53:25          NaN      0   \n",
       "1   212.72.159.179           3  02/01/2017 08:59:10          NaN      0   \n",
       "2   106.222.46.139           1  02/01/2017 09:04:54          NaN      2   \n",
       "3  156.198.160.196           1  02/01/2017 10:57:08          NaN      2   \n",
       "4      41.254.0.28           1  02/01/2017 14:03:11          NaN      2   \n",
       "\n",
       "    AUTH_ID  TOKEN_ID  ACCOUNT_ID  INTERFACE     \n",
       "0  10358774    358360     5964892        NaN     \n",
       "1  10358897    358483     5965040        NaN     \n",
       "2  10358899    358485     5965042        NaN     \n",
       "3  10358961    358547     5965095        NaN     \n",
       "4  10359071    358657     5965184        NaN     \n",
       "\n",
       "[5 rows x 22 columns]"
      ]
     },
     "execution_count": 398,
     "metadata": {},
     "output_type": "execute_result"
    }
   ],
   "source": [
    "feb17_df.head()"
   ]
  },
  {
   "cell_type": "code",
   "execution_count": 399,
   "metadata": {
    "collapsed": true
   },
   "outputs": [],
   "source": [
    "#Lets check for the nulls in the data"
   ]
  },
  {
   "cell_type": "code",
   "execution_count": 400,
   "metadata": {
    "collapsed": false
   },
   "outputs": [
    {
     "data": {
      "text/plain": [
       "SIGNUP_ID           0\n",
       "DISCOUNT_ID     11948\n",
       "EMAIL               0\n",
       "COMPANYNAME     11938\n",
       "FNAME           11877\n",
       "LNAME           11877\n",
       "COUNTRYID           0\n",
       "AREACODE        11948\n",
       "MOBILENUMBER        0\n",
       "RESELLERID      11948\n",
       "CREDIT_USD      11948\n",
       "INFO_1             82\n",
       "INFO_2              0\n",
       "CURRENCYID          0\n",
       "CREATE_DATE         0\n",
       "MODIFY_DATE     11946\n",
       "STATUS              0\n",
       "AUTH_ID             0\n",
       "TOKEN_ID            0\n",
       "ACCOUNT_ID          0\n",
       "INTERFACE       11946\n",
       "                    0\n",
       "dtype: int64"
      ]
     },
     "execution_count": 400,
     "metadata": {},
     "output_type": "execute_result"
    }
   ],
   "source": [
    "july15_df.isnull().sum()"
   ]
  },
  {
   "cell_type": "code",
   "execution_count": 401,
   "metadata": {
    "collapsed": false
   },
   "outputs": [
    {
     "data": {
      "text/plain": [
       "SIGNUP_ID           0\n",
       "DISCOUNT_ID     23289\n",
       "EMAIL               0\n",
       "COMPANYNAME     23289\n",
       "FNAME             165\n",
       "LNAME             165\n",
       "COUNTRYID           0\n",
       "AREACODE        23289\n",
       "MOBILENUMBER        0\n",
       "RESELLERID      23289\n",
       "CREDIT_USD      23289\n",
       "INFO_1            302\n",
       "INFO_2              0\n",
       "CURRENCYID          0\n",
       "CREATE_DATE         0\n",
       "MODIFY_DATE     23289\n",
       "STATUS              0\n",
       "AUTH_ID             0\n",
       "TOKEN_ID            0\n",
       "ACCOUNT_ID          0\n",
       "INTERFACE       23063\n",
       "                    0\n",
       "dtype: int64"
      ]
     },
     "execution_count": 401,
     "metadata": {},
     "output_type": "execute_result"
    }
   ],
   "source": [
    "feb17_df.isnull().sum()"
   ]
  },
  {
   "cell_type": "code",
   "execution_count": 402,
   "metadata": {
    "collapsed": false
   },
   "outputs": [
    {
     "name": "stdout",
     "output_type": "stream",
     "text": [
      "Row count for feb data is 23289 and for july data is 11948\n"
     ]
    }
   ],
   "source": [
    "feb_rowcount = len(feb17_df.index)\n",
    "july_rowcount = len(july15_df.index)\n",
    "print(\"Row count for feb data is {} and for july data is {}\".format(feb_rowcount,july_rowcount))"
   ]
  },
  {
   "cell_type": "markdown",
   "metadata": {},
   "source": [
    "### Removing the null values.\n",
    "\n",
    "\n",
    "Since few columns have almost entire values as null so we must remove them as they won't help in analyzing.\n",
    "\n",
    "For both july15 abd feb17 data, we columns have like DISCOUNT_ID,COMPANYNAME,FNAME,LNAME,AREACODE,RESELLERID,CREDIT_USD,MODIFY_DATE,INTERFACE filled entirely with null values.\n",
    "\n",
    "Although  for feb FNAME and LNAME doesnot have significant number of null values but these fields wont be needed to solve the problem.\n",
    "\n",
    "and also areacode might have played a important role as there might be a link."
   ]
  },
  {
   "cell_type": "code",
   "execution_count": 403,
   "metadata": {
    "collapsed": true
   },
   "outputs": [],
   "source": [
    "null_cols = [\"DISCOUNT_ID\",\"COMPANYNAME\",\"FNAME\",\"LNAME\",\"AREACODE\",\"RESELLERID\",\"CREDIT_USD\",\"MODIFY_DATE\",\"INTERFACE\"]\n",
    "\n",
    "feb_df = feb17_df.drop(null_cols,axis=1)\n",
    "july_df = july15_df.drop(null_cols,axis=1)"
   ]
  },
  {
   "cell_type": "code",
   "execution_count": 404,
   "metadata": {
    "collapsed": true
   },
   "outputs": [],
   "source": [
    "#Now lets look at the data"
   ]
  },
  {
   "cell_type": "code",
   "execution_count": 405,
   "metadata": {
    "collapsed": false
   },
   "outputs": [
    {
     "data": {
      "text/html": [
       "<div>\n",
       "<table border=\"1\" class=\"dataframe\">\n",
       "  <thead>\n",
       "    <tr style=\"text-align: right;\">\n",
       "      <th></th>\n",
       "      <th>SIGNUP_ID</th>\n",
       "      <th>EMAIL</th>\n",
       "      <th>COUNTRYID</th>\n",
       "      <th>MOBILENUMBER</th>\n",
       "      <th>INFO_1</th>\n",
       "      <th>INFO_2</th>\n",
       "      <th>CURRENCYID</th>\n",
       "      <th>CREATE_DATE</th>\n",
       "      <th>STATUS</th>\n",
       "      <th>AUTH_ID</th>\n",
       "      <th>TOKEN_ID</th>\n",
       "      <th>ACCOUNT_ID</th>\n",
       "      <th></th>\n",
       "    </tr>\n",
       "  </thead>\n",
       "  <tbody>\n",
       "    <tr>\n",
       "      <th>0</th>\n",
       "      <td>10006613</td>\n",
       "      <td>angiekuo2@gmail.com</td>\n",
       "      <td>229</td>\n",
       "      <td>19734490747</td>\n",
       "      <td>20303.0</td>\n",
       "      <td>68.194.7.230</td>\n",
       "      <td>1</td>\n",
       "      <td>07/01/2015 02:48:44</td>\n",
       "      <td>2</td>\n",
       "      <td>10006305</td>\n",
       "      <td>6755</td>\n",
       "      <td>5605729</td>\n",
       "      <td></td>\n",
       "    </tr>\n",
       "    <tr>\n",
       "      <th>1</th>\n",
       "      <td>10006614</td>\n",
       "      <td>alexkai1991@gmail.com</td>\n",
       "      <td>234</td>\n",
       "      <td>841668728338</td>\n",
       "      <td>20309.0</td>\n",
       "      <td>113.160.61.98</td>\n",
       "      <td>1</td>\n",
       "      <td>07/01/2015 02:51:42</td>\n",
       "      <td>2</td>\n",
       "      <td>10006306</td>\n",
       "      <td>6756</td>\n",
       "      <td>5605730</td>\n",
       "      <td></td>\n",
       "    </tr>\n",
       "    <tr>\n",
       "      <th>2</th>\n",
       "      <td>10006673</td>\n",
       "      <td>laurenwhite820@yahoo.com</td>\n",
       "      <td>229</td>\n",
       "      <td>2348031946009</td>\n",
       "      <td>20484.0</td>\n",
       "      <td>63.141.217.172</td>\n",
       "      <td>1</td>\n",
       "      <td>07/01/2015 08:25:49</td>\n",
       "      <td>2</td>\n",
       "      <td>10006365</td>\n",
       "      <td>6815</td>\n",
       "      <td>5605789</td>\n",
       "      <td></td>\n",
       "    </tr>\n",
       "    <tr>\n",
       "      <th>3</th>\n",
       "      <td>10006681</td>\n",
       "      <td>judliew87@gmail.com</td>\n",
       "      <td>130</td>\n",
       "      <td>60105667099</td>\n",
       "      <td>20506.0</td>\n",
       "      <td>118.101.133.80</td>\n",
       "      <td>1</td>\n",
       "      <td>07/01/2015 08:40:18</td>\n",
       "      <td>2</td>\n",
       "      <td>10006373</td>\n",
       "      <td>6823</td>\n",
       "      <td>5605797</td>\n",
       "      <td></td>\n",
       "    </tr>\n",
       "    <tr>\n",
       "      <th>4</th>\n",
       "      <td>10006738</td>\n",
       "      <td>StMary@saintly.com</td>\n",
       "      <td>81</td>\n",
       "      <td>233574250244</td>\n",
       "      <td>20685.0</td>\n",
       "      <td>41.215.170.82</td>\n",
       "      <td>1</td>\n",
       "      <td>07/01/2015 10:31:41</td>\n",
       "      <td>2</td>\n",
       "      <td>10006430</td>\n",
       "      <td>6880</td>\n",
       "      <td>5605854</td>\n",
       "      <td></td>\n",
       "    </tr>\n",
       "  </tbody>\n",
       "</table>\n",
       "</div>"
      ],
      "text/plain": [
       "   SIGNUP_ID                     EMAIL  COUNTRYID   MOBILENUMBER   INFO_1  \\\n",
       "0   10006613       angiekuo2@gmail.com        229    19734490747  20303.0   \n",
       "1   10006614     alexkai1991@gmail.com        234   841668728338  20309.0   \n",
       "2   10006673  laurenwhite820@yahoo.com        229  2348031946009  20484.0   \n",
       "3   10006681       judliew87@gmail.com        130    60105667099  20506.0   \n",
       "4   10006738        StMary@saintly.com         81   233574250244  20685.0   \n",
       "\n",
       "           INFO_2  CURRENCYID          CREATE_DATE  STATUS   AUTH_ID  \\\n",
       "0    68.194.7.230           1  07/01/2015 02:48:44       2  10006305   \n",
       "1   113.160.61.98           1  07/01/2015 02:51:42       2  10006306   \n",
       "2  63.141.217.172           1  07/01/2015 08:25:49       2  10006365   \n",
       "3  118.101.133.80           1  07/01/2015 08:40:18       2  10006373   \n",
       "4   41.215.170.82           1  07/01/2015 10:31:41       2  10006430   \n",
       "\n",
       "   TOKEN_ID  ACCOUNT_ID     \n",
       "0      6755     5605729     \n",
       "1      6756     5605730     \n",
       "2      6815     5605789     \n",
       "3      6823     5605797     \n",
       "4      6880     5605854     "
      ]
     },
     "execution_count": 405,
     "metadata": {},
     "output_type": "execute_result"
    }
   ],
   "source": [
    "july_df.head()"
   ]
  },
  {
   "cell_type": "code",
   "execution_count": 406,
   "metadata": {
    "collapsed": false
   },
   "outputs": [
    {
     "data": {
      "text/html": [
       "<div>\n",
       "<table border=\"1\" class=\"dataframe\">\n",
       "  <thead>\n",
       "    <tr style=\"text-align: right;\">\n",
       "      <th></th>\n",
       "      <th>SIGNUP_ID</th>\n",
       "      <th>EMAIL</th>\n",
       "      <th>COUNTRYID</th>\n",
       "      <th>MOBILENUMBER</th>\n",
       "      <th>INFO_1</th>\n",
       "      <th>INFO_2</th>\n",
       "      <th>CURRENCYID</th>\n",
       "      <th>CREATE_DATE</th>\n",
       "      <th>STATUS</th>\n",
       "      <th>AUTH_ID</th>\n",
       "      <th>TOKEN_ID</th>\n",
       "      <th>ACCOUNT_ID</th>\n",
       "      <th></th>\n",
       "    </tr>\n",
       "  </thead>\n",
       "  <tbody>\n",
       "    <tr>\n",
       "      <th>0</th>\n",
       "      <td>10337496</td>\n",
       "      <td>nosiboxav@gmail.com</td>\n",
       "      <td>195</td>\n",
       "      <td>38269331507</td>\n",
       "      <td>2276581.0</td>\n",
       "      <td>37.235.53.158</td>\n",
       "      <td>2</td>\n",
       "      <td>02/01/2017 00:53:25</td>\n",
       "      <td>0</td>\n",
       "      <td>10358774</td>\n",
       "      <td>358360</td>\n",
       "      <td>5964892</td>\n",
       "      <td></td>\n",
       "    </tr>\n",
       "    <tr>\n",
       "      <th>1</th>\n",
       "      <td>10337644</td>\n",
       "      <td>musicmaker555@yahoo.com</td>\n",
       "      <td>79</td>\n",
       "      <td>16466935370</td>\n",
       "      <td>2278656.0</td>\n",
       "      <td>212.72.159.179</td>\n",
       "      <td>3</td>\n",
       "      <td>02/01/2017 08:59:10</td>\n",
       "      <td>0</td>\n",
       "      <td>10358897</td>\n",
       "      <td>358483</td>\n",
       "      <td>5965040</td>\n",
       "      <td></td>\n",
       "    </tr>\n",
       "    <tr>\n",
       "      <th>2</th>\n",
       "      <td>10337646</td>\n",
       "      <td>promoj553@gmail.com</td>\n",
       "      <td>100</td>\n",
       "      <td>918447264166</td>\n",
       "      <td>2278677.0</td>\n",
       "      <td>106.222.46.139</td>\n",
       "      <td>1</td>\n",
       "      <td>02/01/2017 09:04:54</td>\n",
       "      <td>2</td>\n",
       "      <td>10358899</td>\n",
       "      <td>358485</td>\n",
       "      <td>5965042</td>\n",
       "      <td></td>\n",
       "    </tr>\n",
       "    <tr>\n",
       "      <th>3</th>\n",
       "      <td>10337698</td>\n",
       "      <td>turner90000@gmail.com</td>\n",
       "      <td>63</td>\n",
       "      <td>201098883349</td>\n",
       "      <td>2279485.0</td>\n",
       "      <td>156.198.160.196</td>\n",
       "      <td>1</td>\n",
       "      <td>02/01/2017 10:57:08</td>\n",
       "      <td>2</td>\n",
       "      <td>10358961</td>\n",
       "      <td>358547</td>\n",
       "      <td>5965095</td>\n",
       "      <td></td>\n",
       "    </tr>\n",
       "    <tr>\n",
       "      <th>4</th>\n",
       "      <td>10337787</td>\n",
       "      <td>krissgraiz@Gmail.com</td>\n",
       "      <td>122</td>\n",
       "      <td>14016234634</td>\n",
       "      <td>2280516.0</td>\n",
       "      <td>41.254.0.28</td>\n",
       "      <td>1</td>\n",
       "      <td>02/01/2017 14:03:11</td>\n",
       "      <td>2</td>\n",
       "      <td>10359071</td>\n",
       "      <td>358657</td>\n",
       "      <td>5965184</td>\n",
       "      <td></td>\n",
       "    </tr>\n",
       "  </tbody>\n",
       "</table>\n",
       "</div>"
      ],
      "text/plain": [
       "   SIGNUP_ID                    EMAIL  COUNTRYID  MOBILENUMBER     INFO_1  \\\n",
       "0   10337496      nosiboxav@gmail.com        195   38269331507  2276581.0   \n",
       "1   10337644  musicmaker555@yahoo.com         79   16466935370  2278656.0   \n",
       "2   10337646      promoj553@gmail.com        100  918447264166  2278677.0   \n",
       "3   10337698    turner90000@gmail.com         63  201098883349  2279485.0   \n",
       "4   10337787     krissgraiz@Gmail.com        122   14016234634  2280516.0   \n",
       "\n",
       "            INFO_2  CURRENCYID          CREATE_DATE  STATUS   AUTH_ID  \\\n",
       "0    37.235.53.158           2  02/01/2017 00:53:25       0  10358774   \n",
       "1   212.72.159.179           3  02/01/2017 08:59:10       0  10358897   \n",
       "2   106.222.46.139           1  02/01/2017 09:04:54       2  10358899   \n",
       "3  156.198.160.196           1  02/01/2017 10:57:08       2  10358961   \n",
       "4      41.254.0.28           1  02/01/2017 14:03:11       2  10359071   \n",
       "\n",
       "   TOKEN_ID  ACCOUNT_ID     \n",
       "0    358360     5964892     \n",
       "1    358483     5965040     \n",
       "2    358485     5965042     \n",
       "3    358547     5965095     \n",
       "4    358657     5965184     "
      ]
     },
     "execution_count": 406,
     "metadata": {},
     "output_type": "execute_result"
    }
   ],
   "source": [
    "feb_df.head()"
   ]
  },
  {
   "cell_type": "markdown",
   "metadata": {},
   "source": [
    "### Okay now data looks good to go\n"
   ]
  },
  {
   "cell_type": "markdown",
   "metadata": {},
   "source": [
    "## EDA\n",
    "\n",
    "#### Q1.What percentage of the signups were successfully completed (status = 2). Total number and percentage.  \n",
    "#### Q2.Which country did the most signups come from. \n",
    "#### Q3.Which country did the most successful (status =2 ) and unsuccessful (status = 0 or 1) signups come from\n",
    "#### Q4.What percentage of the signups had multiple attempts with the same ip-address\n",
    "#### Q5.What percentage of the signups had multiple attempts with the same email address"
   ]
  },
  {
   "cell_type": "code",
   "execution_count": 407,
   "metadata": {
    "collapsed": false
   },
   "outputs": [
    {
     "name": "stdout",
     "output_type": "stream",
     "text": [
      "<class 'pandas.core.frame.DataFrame'>\n",
      "RangeIndex: 23289 entries, 0 to 23288\n",
      "Data columns (total 13 columns):\n",
      "SIGNUP_ID       23289 non-null int64\n",
      "EMAIL           23289 non-null object\n",
      "COUNTRYID       23289 non-null int64\n",
      "MOBILENUMBER    23289 non-null int64\n",
      "INFO_1          22987 non-null float64\n",
      "INFO_2          23289 non-null object\n",
      "CURRENCYID      23289 non-null int64\n",
      "CREATE_DATE     23289 non-null object\n",
      "STATUS          23289 non-null int64\n",
      "AUTH_ID         23289 non-null int64\n",
      "TOKEN_ID        23289 non-null int64\n",
      "ACCOUNT_ID      23289 non-null int64\n",
      "                23289 non-null object\n",
      "dtypes: float64(1), int64(8), object(4)\n",
      "memory usage: 2.3+ MB\n"
     ]
    }
   ],
   "source": [
    "feb_df.info()"
   ]
  },
  {
   "cell_type": "code",
   "execution_count": 408,
   "metadata": {
    "collapsed": false
   },
   "outputs": [
    {
     "name": "stdout",
     "output_type": "stream",
     "text": [
      "<class 'pandas.core.frame.DataFrame'>\n",
      "RangeIndex: 11948 entries, 0 to 11947\n",
      "Data columns (total 13 columns):\n",
      "SIGNUP_ID       11948 non-null int64\n",
      "EMAIL           11948 non-null object\n",
      "COUNTRYID       11948 non-null int64\n",
      "MOBILENUMBER    11948 non-null int64\n",
      "INFO_1          11866 non-null float64\n",
      "INFO_2          11948 non-null object\n",
      "CURRENCYID      11948 non-null int64\n",
      "CREATE_DATE     11948 non-null object\n",
      "STATUS          11948 non-null int64\n",
      "AUTH_ID         11948 non-null int64\n",
      "TOKEN_ID        11948 non-null int64\n",
      "ACCOUNT_ID      11948 non-null int64\n",
      "                11948 non-null object\n",
      "dtypes: float64(1), int64(8), object(4)\n",
      "memory usage: 1.2+ MB\n"
     ]
    }
   ],
   "source": [
    "july_df.info()"
   ]
  },
  {
   "cell_type": "code",
   "execution_count": 409,
   "metadata": {
    "collapsed": false
   },
   "outputs": [
    {
     "data": {
      "text/plain": [
       "<matplotlib.axes._subplots.AxesSubplot at 0x22d2f6d8>"
      ]
     },
     "execution_count": 409,
     "metadata": {},
     "output_type": "execute_result"
    },
    {
     "data": {
      "image/png": "[encoded data removed]",
      "text/plain": [
       "<matplotlib.figure.Figure at 0x22b60898>"
      ]
     },
     "metadata": {},
     "output_type": "display_data"
    }
   ],
   "source": [
    "fig = plt.figure(figsize=(15,6))\n",
    "ax1 = fig.add_subplot(121)\n",
    "ax2 = fig.add_subplot(122,sharey = ax1)\n",
    "ax1.set_title(\"July15\")\n",
    "ax2.set_title(\"Feb17\")\n",
    "sns.countplot('STATUS',data=july_df,ax=ax1)\n",
    "sns.countplot(\"STATUS\",data=feb_df, ax=ax2)"
   ]
  },
  {
   "cell_type": "markdown",
   "metadata": {},
   "source": [
    "Looks like the ratio of successful signup has significantly increased in feb17"
   ]
  },
  {
   "cell_type": "code",
   "execution_count": 410,
   "metadata": {
    "collapsed": false
   },
   "outputs": [
    {
     "data": {
      "text/plain": [
       "2    19186\n",
       "0     3245\n",
       "1      858\n",
       "Name: STATUS, dtype: int64"
      ]
     },
     "execution_count": 410,
     "metadata": {},
     "output_type": "execute_result"
    }
   ],
   "source": [
    "feb_df.STATUS.value_counts()"
   ]
  },
  {
   "cell_type": "code",
   "execution_count": 411,
   "metadata": {
    "collapsed": false
   },
   "outputs": [
    {
     "data": {
      "text/plain": [
       "2    7286\n",
       "0    4378\n",
       "1     284\n",
       "Name: STATUS, dtype: int64"
      ]
     },
     "execution_count": 411,
     "metadata": {},
     "output_type": "execute_result"
    }
   ],
   "source": [
    "july_df.STATUS.value_counts()"
   ]
  },
  {
   "cell_type": "code",
   "execution_count": 412,
   "metadata": {
    "collapsed": false
   },
   "outputs": [],
   "source": [
    "status_data_july = july_df[\"STATUS\"].value_counts()\n",
    "status_data_feb = feb_df[\"STATUS\"].value_counts()\n",
    "\n",
    "per_july = round((status_data_july[2]/july_rowcount)*100,3)\n",
    "per_feb = round((status_data_feb[2]/feb_rowcount)*100,3)\n"
   ]
  },
  {
   "cell_type": "markdown",
   "metadata": {},
   "source": [
    "--------------------------------------------------------------------------------------------------------------------------------"
   ]
  },
  {
   "cell_type": "markdown",
   "metadata": {},
   "source": [
    "## Q1 What percentage of the signups were successfully completed (status = 2). Total number and percentage?"
   ]
  },
  {
   "cell_type": "markdown",
   "metadata": {},
   "source": [
    "--------------------------------------------------------------------------------------------------------------------------------"
   ]
  },
  {
   "cell_type": "code",
   "execution_count": 413,
   "metadata": {
    "collapsed": false
   },
   "outputs": [
    {
     "name": "stdout",
     "output_type": "stream",
     "text": [
      "Successful signups in july are : 7286 with the percentage of : 60.981\n",
      "Successful signups in feb  are : 19186 with the percentage of : 82.382\n"
     ]
    }
   ],
   "source": [
    "print(\"Successful signups in july are :\",status_data_july[2],\"with the percentage of :\",per_july)\n",
    "print(\"Successful signups in feb  are :\",status_data_feb[2],\"with the percentage of :\",per_feb)"
   ]
  },
  {
   "cell_type": "code",
   "execution_count": 414,
   "metadata": {
    "collapsed": false
   },
   "outputs": [
    {
     "data": {
      "image/png": "[encoded data removed]",
      "text/plain": [
       "<matplotlib.figure.Figure at 0x21c56550>"
      ]
     },
     "metadata": {},
     "output_type": "display_data"
    }
   ],
   "source": [
    "plotdatajul = status_data_july.reset_index()\n",
    "plotdatajul.columns = ['Status','Count']\n",
    "\n",
    "plotdatafeb = status_data_feb.reset_index()\n",
    "plotdatafeb.columns = ['Status','Count']\n",
    "\n",
    "\n",
    "fig = plt.figure(figsize=(15,6))\n",
    "ax1 = fig.add_subplot(121)\n",
    "ax2 = fig.add_subplot(122,sharey=ax1)\n",
    "ax1.set_title(\"July15\")\n",
    "ax2.set_title(\"Feb17\")\n",
    "sns.factorplot(x='Status',y='Count',data=plotdatajul,ax=ax1)\n",
    "sns.factorplot(x='Status',y='Count',data=plotdatafeb,ax=ax2)\n",
    "plt.close()\n",
    "plt.close()"
   ]
  },
  {
   "cell_type": "markdown",
   "metadata": {},
   "source": [
    "--------------------------------------------------------------------------------------------------------------------------------"
   ]
  },
  {
   "cell_type": "markdown",
   "metadata": {},
   "source": [
    "--------------------------------------------------------------------------------------------------------------------------------"
   ]
  },
  {
   "cell_type": "code",
   "execution_count": 415,
   "metadata": {
    "collapsed": false
   },
   "outputs": [],
   "source": [
    "df_july = july_df.groupby([\"COUNTRYID\"]).count()[\"SIGNUP_ID\"]\n",
    "df_feb = feb_df.groupby([\"COUNTRYID\"]).count()[\"SIGNUP_ID\"]"
   ]
  },
  {
   "cell_type": "code",
   "execution_count": 416,
   "metadata": {
    "collapsed": false
   },
   "outputs": [
    {
     "data": {
      "text/plain": [
       "COUNTRYID\n",
       "1       5\n",
       "2       6\n",
       "3      42\n",
       "6       3\n",
       "9       1\n",
       "10     23\n",
       "11     12\n",
       "13    118\n",
       "14     14\n",
       "15     11\n",
       "Name: SIGNUP_ID, dtype: int64"
      ]
     },
     "execution_count": 416,
     "metadata": {},
     "output_type": "execute_result"
    }
   ],
   "source": [
    "df_july.head(10)"
   ]
  },
  {
   "cell_type": "code",
   "execution_count": 417,
   "metadata": {
    "collapsed": false
   },
   "outputs": [
    {
     "data": {
      "text/plain": [
       "COUNTRYID\n",
       "1       4\n",
       "2      24\n",
       "3      74\n",
       "6       1\n",
       "10     34\n",
       "11     32\n",
       "13    203\n",
       "14     89\n",
       "15     37\n",
       "16      2\n",
       "Name: SIGNUP_ID, dtype: int64"
      ]
     },
     "execution_count": 417,
     "metadata": {},
     "output_type": "execute_result"
    }
   ],
   "source": [
    "df_feb.head(10)"
   ]
  },
  {
   "cell_type": "code",
   "execution_count": 418,
   "metadata": {
    "collapsed": false
   },
   "outputs": [],
   "source": [
    "maxofjuly = df_july.max()\n",
    "countryid_july = df_july[df_july==maxofjuly].index[0]\n",
    "\n",
    "maxoffeb = df_feb.max()\n",
    "countryid_feb = df_feb[df_feb==maxoffeb].index[0]"
   ]
  },
  {
   "cell_type": "markdown",
   "metadata": {},
   "source": [
    "--------------------------------------------------------------------------------------------------------------------------------"
   ]
  },
  {
   "cell_type": "markdown",
   "metadata": {},
   "source": [
    "## Q2 Which country did the most signups come from?"
   ]
  },
  {
   "cell_type": "markdown",
   "metadata": {},
   "source": [
    "--------------------------------------------------------------------------------------------------------------------------------"
   ]
  },
  {
   "cell_type": "code",
   "execution_count": 419,
   "metadata": {
    "collapsed": false
   },
   "outputs": [
    {
     "name": "stdout",
     "output_type": "stream",
     "text": [
      "With 2081 signups, Countryid 229 has the maximum number of signups for july15\n",
      "With 4750 signups, Countryid 229 has the maximum number of signups for feb17\n"
     ]
    }
   ],
   "source": [
    "print(\"With {} signups, Countryid {} has the maximum number of signups for july15\".format(maxofjuly,countryid_july))\n",
    "print(\"With {} signups, Countryid {} has the maximum number of signups for feb17\".format(maxoffeb,countryid_feb))"
   ]
  },
  {
   "cell_type": "code",
   "execution_count": 420,
   "metadata": {
    "collapsed": false
   },
   "outputs": [
    {
     "data": {
      "image/png": "[encoded data removed]",
      "text/plain": [
       "<matplotlib.figure.Figure at 0x22db4860>"
      ]
     },
     "metadata": {},
     "output_type": "display_data"
    }
   ],
   "source": [
    "# Top 5 countryid\n",
    "\n",
    "plotdatajul = df_july.reset_index()\n",
    "plotdatajul.columns = ['Countryid','Count']\n",
    "\n",
    "plotdatafeb = df_feb.reset_index()\n",
    "plotdatafeb.columns = ['Countryid','Count']\n",
    "\n",
    "\n",
    "fig = plt.figure(figsize=(15,6))\n",
    "ax1 = plt.subplot2grid((1,2),(0,0),rowspan=1)\n",
    "ax2 = plt.subplot2grid((1,2),(0,1),rowspan=1,sharey=ax1)\n",
    "ax1.set_title(\"July15\")\n",
    "ax2.set_title(\"Feb17\")\n",
    "\n",
    "\n",
    "sns.factorplot(x='Countryid',y='Count',data=plotdatajul.sort_values(by = \"Count\",ascending=False)[:5],ax=ax1)\n",
    "sns.factorplot(x='Countryid',y='Count',data=plotdatafeb.sort_values(by = \"Count\",ascending=False)[:5],ax=ax2)\n",
    "plt.close()\n",
    "plt.close()"
   ]
  },
  {
   "cell_type": "code",
   "execution_count": 421,
   "metadata": {
    "collapsed": false
   },
   "outputs": [
    {
     "name": "stdout",
     "output_type": "stream",
     "text": [
      "     Countryid  Count\n",
      "140        229   2081\n",
      "98         157   1373\n",
      "59         100   1010\n",
      "112        178    597\n",
      "17          23    549\n",
      "     Countryid  Count\n",
      "139        229   4750\n",
      "133        219   1458\n",
      "11          18   1253\n",
      "91         145   1182\n",
      "136        225    985\n"
     ]
    }
   ],
   "source": [
    "print(plotdatajul.sort_values(by = \"Count\",ascending=False)[:5])\n",
    "print(plotdatafeb.sort_values(by = \"Count\",ascending=False)[:5])"
   ]
  },
  {
   "cell_type": "markdown",
   "metadata": {},
   "source": [
    "--------------------------------------------------------------------------------------------------------------------------------"
   ]
  },
  {
   "cell_type": "markdown",
   "metadata": {},
   "source": [
    "--------------------------------------------------------------------------------------------------------------------------------"
   ]
  },
  {
   "cell_type": "code",
   "execution_count": 422,
   "metadata": {
    "collapsed": false
   },
   "outputs": [],
   "source": [
    "july_success = july_df[july_df.STATUS==2].groupby(\"COUNTRYID\").count().STATUS\n",
    "july_not_success = july_df[july_df.STATUS!=2].groupby(\"COUNTRYID\").count().STATUS\n",
    "\n",
    "feb_success = feb_df[feb_df.STATUS==2].groupby(\"COUNTRYID\").count().STATUS\n",
    "feb_not_success = feb_df[feb_df.STATUS!=2].groupby(\"COUNTRYID\").count().STATUS"
   ]
  },
  {
   "cell_type": "code",
   "execution_count": 423,
   "metadata": {
    "collapsed": false
   },
   "outputs": [],
   "source": [
    "max_july_success = july_success.max()\n",
    "max_july_not_success = july_not_success.max()\n",
    "\n",
    "max_jul_s_id = july_success[july_success==max_july_success].index[0]\n",
    "max_jul_ns_id = july_not_success[july_not_success==max_july_not_success].index[0]\n",
    "\n",
    "max_feb_success = feb_success.max()\n",
    "max_feb_not_success = feb_not_success.max()\n",
    "\n",
    "max_feb_s_id = feb_success[feb_success==max_feb_success].index[0]\n",
    "max_feb_ns_id = feb_not_success[feb_not_success==max_feb_not_success].index[0]"
   ]
  },
  {
   "cell_type": "markdown",
   "metadata": {},
   "source": [
    "--------------------------------------------------------------------------------------------------------------------------------"
   ]
  },
  {
   "cell_type": "markdown",
   "metadata": {},
   "source": [
    "## Q3 \tWhich country did the most successful (status =2 ) and unsuccessful (status = 0 or 1) signups come from?"
   ]
  },
  {
   "cell_type": "markdown",
   "metadata": {},
   "source": [
    "--------------------------------------------------------------------------------------------------------------------------------"
   ]
  },
  {
   "cell_type": "code",
   "execution_count": 424,
   "metadata": {
    "collapsed": false
   },
   "outputs": [
    {
     "name": "stdout",
     "output_type": "stream",
     "text": [
      "July 15\n",
      "-------\n",
      "\n",
      "\n",
      "Successful Signups:\n",
      "Countryid : 229\n",
      "Number of successful signups : 1305\n",
      "\n",
      "Unsuccessful Signups:\n",
      "Countryid : 229\n",
      "Number of Unsuccessful signups  : 776\n",
      "\n",
      "\n",
      "Feb 17\n",
      "------\n",
      "\n",
      "\n",
      "Successful Signups:\n",
      "Countryid : 229\n",
      "Number of successful signups : 3963\n",
      "\n",
      "Unsuccessful Signups:\n",
      "Countryid : 229\n",
      "Number of Unsuccessful signups  : 787\n"
     ]
    }
   ],
   "source": [
    "print('''July 15\n",
    "-------\n",
    "\\n\\nSuccessful Signups:\n",
    "Countryid : {}\n",
    "Number of successful signups : {}\n",
    "\\nUnsuccessful Signups:\n",
    "Countryid : {}\n",
    "Number of Unsuccessful signups  : {}'''.format(max_jul_s_id,max_july_success,max_jul_ns_id,max_july_not_success))\n",
    "\n",
    "print('''\\n\\nFeb 17\n",
    "------\n",
    "\\n\\nSuccessful Signups:\n",
    "Countryid : {}\n",
    "Number of successful signups : {}\n",
    "\\nUnsuccessful Signups:\n",
    "Countryid : {}\n",
    "Number of Unsuccessful signups  : {}'''.format(max_feb_s_id,max_feb_success,max_feb_ns_id,max_feb_not_success))"
   ]
  },
  {
   "cell_type": "code",
   "execution_count": 425,
   "metadata": {
    "collapsed": false
   },
   "outputs": [
    {
     "data": {
      "image/png": "[encoded data removed]",
      "text/plain": [
       "<matplotlib.figure.Figure at 0x230eaeb8>"
      ]
     },
     "metadata": {},
     "output_type": "display_data"
    }
   ],
   "source": [
    "# Top 5 countryid\n",
    "\n",
    "plotdatajul = july_success.reset_index()\n",
    "plotdatajul.columns = ['Countryid','Count']\n",
    "\n",
    "plotdatafeb = feb_success.reset_index()\n",
    "plotdatafeb.columns = ['Countryid','Count']\n",
    "\n",
    "\n",
    "fig = plt.figure(figsize=(15,6))\n",
    "ax1 = plt.subplot2grid((1,2),(0,0),rowspan=1)\n",
    "ax2 = plt.subplot2grid((1,2),(0,1),rowspan=1,sharey=ax1)\n",
    "ax1.set_title(\"July15\")\n",
    "ax2.set_title(\"Feb17\")\n",
    "\n",
    "\n",
    "sns.factorplot(x='Countryid',y='Count',data=plotdatajul.sort_values(by = \"Count\",ascending=False)[:5],ax=ax1)\n",
    "sns.factorplot(x='Countryid',y='Count',data=plotdatafeb.sort_values(by = \"Count\",ascending=False)[:5],ax=ax2)\n",
    "plt.close()\n",
    "plt.close()"
   ]
  },
  {
   "cell_type": "markdown",
   "metadata": {},
   "source": [
    "--------------------------------------------------------------------------------------------------------------------------------"
   ]
  },
  {
   "cell_type": "markdown",
   "metadata": {},
   "source": [
    "--------------------------------------------------------------------------------------------------------------------------------"
   ]
  },
  {
   "cell_type": "code",
   "execution_count": 426,
   "metadata": {
    "collapsed": true
   },
   "outputs": [],
   "source": [
    "july_ip = july_df.groupby(\"INFO_2\").count().SIGNUP_ID\n",
    "\n",
    "feb_ip = feb_df.groupby(\"INFO_2\").count().SIGNUP_ID"
   ]
  },
  {
   "cell_type": "code",
   "execution_count": 427,
   "metadata": {
    "collapsed": false
   },
   "outputs": [],
   "source": [
    "ip_mul_jul = july_ip[july_ip!=1]\n",
    "ip_mul_feb = feb_ip[feb_ip!=1]"
   ]
  },
  {
   "cell_type": "code",
   "execution_count": 428,
   "metadata": {
    "collapsed": false
   },
   "outputs": [],
   "source": [
    "per_mulip_jul = round((ip_mul_jul.sum()/july_rowcount)*100,3)\n",
    "per_mulip_feb = round((ip_mul_feb.sum()/feb_rowcount)*100,3)"
   ]
  },
  {
   "cell_type": "code",
   "execution_count": 429,
   "metadata": {
    "collapsed": false
   },
   "outputs": [],
   "source": [
    "max_attempt_jul = ip_mul_jul.max()\n",
    "max_attempt_ip_jul = ip_mul_jul[ip_mul_jul!=max_attempt_jul].index[0]\n",
    "\n",
    "max_attempt_feb = ip_mul_feb.max()\n",
    "max_attempt_ip_feb = ip_mul_feb[ip_mul_feb!=max_attempt_feb].index[0]"
   ]
  },
  {
   "cell_type": "markdown",
   "metadata": {},
   "source": [
    "--------------------------------------------------------------------------------------------------------------------------------"
   ]
  },
  {
   "cell_type": "markdown",
   "metadata": {},
   "source": [
    "## Q4 What percentage of the signups had multiple attempts with the same ip-address?"
   ]
  },
  {
   "cell_type": "markdown",
   "metadata": {},
   "source": [
    "--------------------------------------------------------------------------------------------------------------------------------"
   ]
  },
  {
   "cell_type": "code",
   "execution_count": 430,
   "metadata": {
    "collapsed": false
   },
   "outputs": [
    {
     "name": "stdout",
     "output_type": "stream",
     "text": [
      "July 15\n",
      "-------\n",
      "\n",
      "Multiple attempts with the same ip-address :\n",
      "Percentage : 49.096%\n",
      "Max Number of attemps 117 with IP address 1.22.201.2\n",
      "\n",
      "\n",
      "Feb 17\n",
      "-------\n",
      "\n",
      "Multiple attempts with the same ip-address :\n",
      "Percentage : 50.195 %\n",
      "Max Number of attemps 169 with IP address 1.23.212.14\n"
     ]
    }
   ],
   "source": [
    "print('''July 15\n",
    "-------\n",
    "\\nMultiple attempts with the same ip-address :\n",
    "Percentage : {}%\n",
    "Max Number of attemps {} with IP address {}'''.format(per_mulip_jul,max_attempt_jul,max_attempt_ip_jul))\n",
    "\n",
    "print('''\\n\\nFeb 17\n",
    "-------\n",
    "\\nMultiple attempts with the same ip-address :\n",
    "Percentage : {} %\n",
    "Max Number of attemps {} with IP address {}'''.format(per_mulip_feb,max_attempt_feb,max_attempt_ip_feb))"
   ]
  },
  {
   "cell_type": "code",
   "execution_count": 431,
   "metadata": {
    "collapsed": false
   },
   "outputs": [
    {
     "data": {
      "text/plain": [
       "<matplotlib.axes._subplots.AxesSubplot at 0x20d210f0>"
      ]
     },
     "execution_count": 431,
     "metadata": {},
     "output_type": "execute_result"
    },
    {
     "data": {
      "image/png": "[encoded data removed]",
      "text/plain": [
       "<matplotlib.figure.Figure at 0x21b7b0b8>"
      ]
     },
     "metadata": {},
     "output_type": "display_data"
    }
   ],
   "source": [
    "# Top 5 IP\n",
    "\n",
    "plotdatajul = july_ip.reset_index()\n",
    "plotdatajul.columns = ['IP','Count']\n",
    "\n",
    "plotdatafeb = feb_ip.reset_index()\n",
    "plotdatafeb.columns = ['IP','Count']\n",
    "\n",
    "\n",
    "fig = plt.figure(figsize=(15,6))\n",
    "ax1 = plt.subplot2grid((1,2),(0,0),rowspan=1)\n",
    "ax2 = plt.subplot2grid((1,2),(0,1),rowspan=1,sharey=ax1)\n",
    "ax1.set_title(\"July15\")\n",
    "ax2.set_title(\"Feb17\")\n",
    "\n",
    "\n",
    "sns.barplot(x='IP',y='Count',data=plotdatajul.sort_values(by = \"Count\",ascending=False)[:5],ax=ax1)\n",
    "sns.barplot(x='IP',y='Count',data=plotdatafeb.sort_values(by = \"Count\",ascending=False)[:5],ax=ax2)\n"
   ]
  },
  {
   "cell_type": "markdown",
   "metadata": {},
   "source": [
    "--------------------------------------------------------------------------------------------------------------------------------"
   ]
  },
  {
   "cell_type": "markdown",
   "metadata": {},
   "source": [
    "--------------------------------------------------------------------------------------------------------------------------------"
   ]
  },
  {
   "cell_type": "code",
   "execution_count": 432,
   "metadata": {
    "collapsed": true
   },
   "outputs": [],
   "source": [
    "july_email = july_df.groupby(\"EMAIL\").count().SIGNUP_ID\n",
    "\n",
    "feb_email = feb_df.groupby(\"EMAIL\").count().SIGNUP_ID"
   ]
  },
  {
   "cell_type": "code",
   "execution_count": 433,
   "metadata": {
    "collapsed": true
   },
   "outputs": [],
   "source": [
    "email_mul_jul = july_email[july_email!=1]\n",
    "email_mul_feb = feb_email[feb_email!=1]"
   ]
  },
  {
   "cell_type": "code",
   "execution_count": 434,
   "metadata": {
    "collapsed": true
   },
   "outputs": [],
   "source": [
    "per_mulem_jul = round((email_mul_jul.sum()/july_rowcount)*100,3)\n",
    "per_mulem_feb = round((email_mul_feb.sum()/feb_rowcount)*100,3)"
   ]
  },
  {
   "cell_type": "code",
   "execution_count": 435,
   "metadata": {
    "collapsed": true
   },
   "outputs": [],
   "source": [
    "max_attempt_jul_em = email_mul_jul.max()\n",
    "max_attempt_em_jul = email_mul_jul[email_mul_jul!=max_attempt_jul_em].index[0]\n",
    "\n",
    "max_attempt_feb_em = email_mul_feb.max()\n",
    "max_attempt_em_feb = email_mul_feb[email_mul_feb!=max_attempt_feb_em].index[0]"
   ]
  },
  {
   "cell_type": "markdown",
   "metadata": {},
   "source": [
    "--------------------------------------------------------------------------------------------------------------------------------"
   ]
  },
  {
   "cell_type": "markdown",
   "metadata": {},
   "source": [
    "## Q5 What percentage of the signups had multiple attempts with the same email address?"
   ]
  },
  {
   "cell_type": "markdown",
   "metadata": {},
   "source": [
    "--------------------------------------------------------------------------------------------------------------------------------"
   ]
  },
  {
   "cell_type": "code",
   "execution_count": 436,
   "metadata": {
    "collapsed": false
   },
   "outputs": [
    {
     "name": "stdout",
     "output_type": "stream",
     "text": [
      "July 15\n",
      "-------\n",
      "\n",
      "Multiple attempts with the same email address :\n",
      "Percentage : 34%\n",
      "Max Number of attemps 34 with email address : 1048127041@qq.com\n",
      "\n",
      "\n",
      "Feb 17\n",
      "-------\n",
      "\n",
      "Multiple attempts with the same email address :\n",
      "Percentage : 5.848 %\n",
      "Max Number of attemps 169 with email address : 12kolj78p@mail.ru\n"
     ]
    }
   ],
   "source": [
    "print('''July 15\n",
    "-------\n",
    "\\nMultiple attempts with the same email address :\n",
    "Percentage : {}%\n",
    "Max Number of attemps {} with email address : {}'''.format(max_attempt_jul_em,max_attempt_jul_em,max_attempt_em_jul))\n",
    "\n",
    "print('''\\n\\nFeb 17\n",
    "-------\n",
    "\\nMultiple attempts with the same email address :\n",
    "Percentage : {} %\n",
    "Max Number of attemps {} with email address : {}'''.format(per_mulem_feb,max_attempt_feb_em,max_attempt_em_feb))"
   ]
  },
  {
   "cell_type": "code",
   "execution_count": 437,
   "metadata": {
    "collapsed": false
   },
   "outputs": [
    {
     "data": {
      "image/png": "[encoded data removed]",
      "text/plain": [
       "<matplotlib.figure.Figure at 0x1c5699e8>"
      ]
     },
     "metadata": {},
     "output_type": "display_data"
    }
   ],
   "source": [
    "# Top 5 Email\n",
    "\n",
    "plotdatajul = july_email.reset_index()\n",
    "plotdatajul.columns = ['Email','Count']\n",
    "\n",
    "plotdatafeb = feb_email.reset_index()\n",
    "plotdatafeb.columns = ['Email','Count']\n",
    "\n",
    "\n",
    "fig = plt.figure(figsize=(15,6))\n",
    "ax1 = plt.subplot2grid((1,2),(0,0),rowspan=1)\n",
    "ax2 = plt.subplot2grid((1,2),(0,1),rowspan=1,sharey=ax1)\n",
    "ax1.set_title(\"July15\")\n",
    "ax2.set_title(\"Feb17\")\n",
    "\n",
    "\n",
    "sns.barplot(x='Count',y='Email',data=plotdatajul.sort_values(by = \"Count\",ascending=False)[:5],ax=ax1)\n",
    "sns.barplot(x='Count',y='Email',data=plotdatafeb.sort_values(by = \"Count\",ascending=False)[:5],ax=ax2)\n",
    "plt.tight_layout()"
   ]
  },
  {
   "cell_type": "markdown",
   "metadata": {},
   "source": [
    "--------------------------------------------------------------------------------------------------------------------------------"
   ]
  },
  {
   "cell_type": "markdown",
   "metadata": {},
   "source": [
    "--------------------------------------------------------------------------------------------------------------------------------"
   ]
  },
  {
   "cell_type": "markdown",
   "metadata": {},
   "source": [
    "# Change In Trend"
   ]
  },
  {
   "cell_type": "code",
   "execution_count": 438,
   "metadata": {
    "collapsed": false
   },
   "outputs": [],
   "source": [
    "percentage_change_signup = round(((per_feb-per_july)/per_july)*100,3)\n",
    "percentage_change_ip = round(((per_mulip_feb-per_mulip_jul)/per_mulip_jul)*100,3)\n",
    "percentage_change_em = round(((per_mulem_feb-per_mulem_jul)/per_mulem_jul)*100,3)"
   ]
  },
  {
   "cell_type": "markdown",
   "metadata": {},
   "source": [
    "--------------------------------------------------------------------------------------------------------------------------------"
   ]
  },
  {
   "cell_type": "markdown",
   "metadata": {},
   "source": [
    "## Q1. What was the percentage change in ratio of successful signs up from July 15 to Jan 17?\n"
   ]
  },
  {
   "cell_type": "markdown",
   "metadata": {},
   "source": [
    "--------------------------------------------------------------------------------------------------------------------------------"
   ]
  },
  {
   "cell_type": "code",
   "execution_count": 439,
   "metadata": {
    "collapsed": false
   },
   "outputs": [
    {
     "name": "stdout",
     "output_type": "stream",
     "text": [
      "Percentage change in ratio of successful signups :  35.095\n"
     ]
    }
   ],
   "source": [
    "print(\"Percentage change in ratio of successful signups : \",percentage_change_signup)"
   ]
  },
  {
   "cell_type": "markdown",
   "metadata": {},
   "source": [
    "--------------------------------------------------------------------------------------------------------------------------------"
   ]
  },
  {
   "cell_type": "markdown",
   "metadata": {},
   "source": [
    "## Q2.What was the percentage change in sign-ups with multiple attempts (same ip address) from July 15 to Jan 17?"
   ]
  },
  {
   "cell_type": "markdown",
   "metadata": {},
   "source": [
    "--------------------------------------------------------------------------------------------------------------------------------"
   ]
  },
  {
   "cell_type": "code",
   "execution_count": 440,
   "metadata": {
    "collapsed": false
   },
   "outputs": [
    {
     "name": "stdout",
     "output_type": "stream",
     "text": [
      "Percentage change in sign-ups with multiple attempts (same ip address) from July 15 to Jan 17 :  2.238\n"
     ]
    }
   ],
   "source": [
    "print(\"Percentage change in sign-ups with multiple attempts (same ip address) from July 15 to Jan 17 : \",percentage_change_ip)"
   ]
  },
  {
   "cell_type": "markdown",
   "metadata": {},
   "source": [
    "--------------------------------------------------------------------------------------------------------------------------------"
   ]
  },
  {
   "cell_type": "markdown",
   "metadata": {},
   "source": [
    "## Q3.What was the percentage change in sign-ups with multiple attempts (same email address) from July 15 to Jan 17?"
   ]
  },
  {
   "cell_type": "markdown",
   "metadata": {},
   "source": [
    "--------------------------------------------------------------------------------------------------------------------------------"
   ]
  },
  {
   "cell_type": "code",
   "execution_count": 441,
   "metadata": {
    "collapsed": false
   },
   "outputs": [
    {
     "name": "stdout",
     "output_type": "stream",
     "text": [
      "Percentage change in sign-ups with multiple attempts (same email address) from July 15 to Jan 17 :  -80.597\n"
     ]
    }
   ],
   "source": [
    "print(\"Percentage change in sign-ups with multiple attempts (same email address) from July 15 to Jan 17 : \",percentage_change_em)"
   ]
  },
  {
   "cell_type": "markdown",
   "metadata": {},
   "source": [
    "--------------------------------------------------------------------------------------------------------------------------------"
   ]
  },
  {
   "cell_type": "markdown",
   "metadata": {},
   "source": [
    "--------------------------------------------------------------------------------------------------------------------------------"
   ]
  },
  {
   "cell_type": "code",
   "execution_count": 442,
   "metadata": {
    "collapsed": false
   },
   "outputs": [],
   "source": [
    "july_ip_2 = july_df.groupby(\"INFO_2\").count().STATUS\n",
    "feb_ip_2 = feb_df.groupby(\"INFO_2\").count().STATUS"
   ]
  },
  {
   "cell_type": "code",
   "execution_count": 443,
   "metadata": {
    "collapsed": false
   },
   "outputs": [],
   "source": [
    "ip = july_ip_2.index.tolist()"
   ]
  },
  {
   "cell_type": "code",
   "execution_count": 444,
   "metadata": {
    "collapsed": false
   },
   "outputs": [],
   "source": [
    "feb_ip_dict = feb_ip_2.to_dict()"
   ]
  },
  {
   "cell_type": "code",
   "execution_count": 445,
   "metadata": {
    "collapsed": false
   },
   "outputs": [],
   "source": [
    "same_ip = 0\n",
    "same_ip_successful = 0\n",
    "for i in ip:\n",
    "    if i in feb_ip_dict: \n",
    "        same_ip +=1\n",
    "        if feb_ip_dict[i] == 2:\n",
    "            same_ip_successful +=1"
   ]
  },
  {
   "cell_type": "markdown",
   "metadata": {},
   "source": [
    "--------------------------------------------------------------------------------------------------------------------------------"
   ]
  },
  {
   "cell_type": "markdown",
   "metadata": {},
   "source": [
    "## \tHow many sign-up attempts (based on ip-address) that happened in July 15 also happened in Jan 17. How many of these were successful?\n"
   ]
  },
  {
   "cell_type": "markdown",
   "metadata": {},
   "source": [
    "--------------------------------------------------------------------------------------------------------------------------------"
   ]
  },
  {
   "cell_type": "code",
   "execution_count": 446,
   "metadata": {
    "collapsed": false
   },
   "outputs": [
    {
     "name": "stdout",
     "output_type": "stream",
     "text": [
      "Number of Sign-up attempts with same ip-address, that happened both in July15 and Feb17 : 150\n",
      "Number of Successful attempts with the same ip-address : 26\n"
     ]
    }
   ],
   "source": [
    "print('''Number of Sign-up attempts with same ip-address, that happened both in July15 and Feb17 : {}\n",
    "Number of Successful attempts with the same ip-address : {}'''.format(same_ip,same_ip_successful))"
   ]
  },
  {
   "cell_type": "markdown",
   "metadata": {},
   "source": [
    "--------------------------------------------------------------------------------------------------------------------------------"
   ]
  },
  {
   "cell_type": "markdown",
   "metadata": {},
   "source": [
    "--------------------------------------------------------------------------------------------------------------------------------"
   ]
  },
  {
   "cell_type": "code",
   "execution_count": 447,
   "metadata": {
    "collapsed": true
   },
   "outputs": [],
   "source": [
    "july_phone = july_df.groupby(\"MOBILENUMBER\").count().STATUS\n",
    "\n",
    "feb_phone = feb_df.groupby(\"MOBILENUMBER\").count().STATUS"
   ]
  },
  {
   "cell_type": "code",
   "execution_count": 448,
   "metadata": {
    "collapsed": false
   },
   "outputs": [],
   "source": [
    "phone = july_phone.index.tolist()\n"
   ]
  },
  {
   "cell_type": "code",
   "execution_count": 449,
   "metadata": {
    "collapsed": true
   },
   "outputs": [],
   "source": [
    "feb_phone_dict = feb_phone.to_dict()"
   ]
  },
  {
   "cell_type": "code",
   "execution_count": 450,
   "metadata": {
    "collapsed": false
   },
   "outputs": [],
   "source": [
    "same_phone = 0\n",
    "same_phone_successful = 0\n",
    "for i in phone:\n",
    "    if i in feb_phone_dict: \n",
    "        same_phone +=1\n",
    "        a = i\n",
    "        if feb_phone_dict[i] == 2:\n",
    "            same_phone_successful +=1\n"
   ]
  },
  {
   "cell_type": "markdown",
   "metadata": {},
   "source": [
    "--------------------------------------------------------------------------------------------------------------------------------"
   ]
  },
  {
   "cell_type": "markdown",
   "metadata": {},
   "source": [
    "## \tHow many sign-up attempts (based on the phone number) that happened in July 15 also    happened in Jan 17. How many of these were successful?\n"
   ]
  },
  {
   "cell_type": "markdown",
   "metadata": {},
   "source": [
    "--------------------------------------------------------------------------------------------------------------------------------"
   ]
  },
  {
   "cell_type": "code",
   "execution_count": 451,
   "metadata": {
    "collapsed": false
   },
   "outputs": [
    {
     "name": "stdout",
     "output_type": "stream",
     "text": [
      "Number of Sign-up attempts with same PhoneNumber, that happened both in July15 and Feb17 : 0\n",
      "Number of Successful attempts with the same PhoneNumber : 0\n"
     ]
    }
   ],
   "source": [
    "print('''Number of Sign-up attempts with same PhoneNumber, that happened both in July15 and Feb17 : {}\n",
    "Number of Successful attempts with the same PhoneNumber : {}'''.format(same_phone,same_phone_successful))"
   ]
  },
  {
   "cell_type": "markdown",
   "metadata": {},
   "source": [
    "--------------------------------------------------------------------------------------------------------------------------------"
   ]
  },
  {
   "cell_type": "markdown",
   "metadata": {},
   "source": [
    "# Fraud Detection\n"
   ]
  },
  {
   "cell_type": "markdown",
   "metadata": {},
   "source": [
    "--------------------------------------------------------------------------------------------------------------------------------"
   ]
  },
  {
   "cell_type": "code",
   "execution_count": 506,
   "metadata": {
    "collapsed": false
   },
   "outputs": [],
   "source": [
    "combined_df = pd.concat([july_df,feb_df])"
   ]
  },
  {
   "cell_type": "code",
   "execution_count": 507,
   "metadata": {
    "collapsed": false
   },
   "outputs": [
    {
     "data": {
      "text/html": [
       "<div>\n",
       "<table border=\"1\" class=\"dataframe\">\n",
       "  <thead>\n",
       "    <tr style=\"text-align: right;\">\n",
       "      <th></th>\n",
       "      <th>SIGNUP_ID</th>\n",
       "      <th>EMAIL</th>\n",
       "      <th>COUNTRYID</th>\n",
       "      <th>MOBILENUMBER</th>\n",
       "      <th>INFO_1</th>\n",
       "      <th>INFO_2</th>\n",
       "      <th>CURRENCYID</th>\n",
       "      <th>CREATE_DATE</th>\n",
       "      <th>STATUS</th>\n",
       "      <th>AUTH_ID</th>\n",
       "      <th>TOKEN_ID</th>\n",
       "      <th>ACCOUNT_ID</th>\n",
       "      <th></th>\n",
       "    </tr>\n",
       "  </thead>\n",
       "  <tbody>\n",
       "    <tr>\n",
       "      <th>0</th>\n",
       "      <td>10006613</td>\n",
       "      <td>angiekuo2@gmail.com</td>\n",
       "      <td>229</td>\n",
       "      <td>19734490747</td>\n",
       "      <td>20303.0</td>\n",
       "      <td>68.194.7.230</td>\n",
       "      <td>1</td>\n",
       "      <td>07/01/2015 02:48:44</td>\n",
       "      <td>2</td>\n",
       "      <td>10006305</td>\n",
       "      <td>6755</td>\n",
       "      <td>5605729</td>\n",
       "      <td></td>\n",
       "    </tr>\n",
       "    <tr>\n",
       "      <th>1</th>\n",
       "      <td>10006614</td>\n",
       "      <td>alexkai1991@gmail.com</td>\n",
       "      <td>234</td>\n",
       "      <td>841668728338</td>\n",
       "      <td>20309.0</td>\n",
       "      <td>113.160.61.98</td>\n",
       "      <td>1</td>\n",
       "      <td>07/01/2015 02:51:42</td>\n",
       "      <td>2</td>\n",
       "      <td>10006306</td>\n",
       "      <td>6756</td>\n",
       "      <td>5605730</td>\n",
       "      <td></td>\n",
       "    </tr>\n",
       "    <tr>\n",
       "      <th>2</th>\n",
       "      <td>10006673</td>\n",
       "      <td>laurenwhite820@yahoo.com</td>\n",
       "      <td>229</td>\n",
       "      <td>2348031946009</td>\n",
       "      <td>20484.0</td>\n",
       "      <td>63.141.217.172</td>\n",
       "      <td>1</td>\n",
       "      <td>07/01/2015 08:25:49</td>\n",
       "      <td>2</td>\n",
       "      <td>10006365</td>\n",
       "      <td>6815</td>\n",
       "      <td>5605789</td>\n",
       "      <td></td>\n",
       "    </tr>\n",
       "    <tr>\n",
       "      <th>3</th>\n",
       "      <td>10006681</td>\n",
       "      <td>judliew87@gmail.com</td>\n",
       "      <td>130</td>\n",
       "      <td>60105667099</td>\n",
       "      <td>20506.0</td>\n",
       "      <td>118.101.133.80</td>\n",
       "      <td>1</td>\n",
       "      <td>07/01/2015 08:40:18</td>\n",
       "      <td>2</td>\n",
       "      <td>10006373</td>\n",
       "      <td>6823</td>\n",
       "      <td>5605797</td>\n",
       "      <td></td>\n",
       "    </tr>\n",
       "    <tr>\n",
       "      <th>4</th>\n",
       "      <td>10006738</td>\n",
       "      <td>StMary@saintly.com</td>\n",
       "      <td>81</td>\n",
       "      <td>233574250244</td>\n",
       "      <td>20685.0</td>\n",
       "      <td>41.215.170.82</td>\n",
       "      <td>1</td>\n",
       "      <td>07/01/2015 10:31:41</td>\n",
       "      <td>2</td>\n",
       "      <td>10006430</td>\n",
       "      <td>6880</td>\n",
       "      <td>5605854</td>\n",
       "      <td></td>\n",
       "    </tr>\n",
       "  </tbody>\n",
       "</table>\n",
       "</div>"
      ],
      "text/plain": [
       "   SIGNUP_ID                     EMAIL  COUNTRYID   MOBILENUMBER   INFO_1  \\\n",
       "0   10006613       angiekuo2@gmail.com        229    19734490747  20303.0   \n",
       "1   10006614     alexkai1991@gmail.com        234   841668728338  20309.0   \n",
       "2   10006673  laurenwhite820@yahoo.com        229  2348031946009  20484.0   \n",
       "3   10006681       judliew87@gmail.com        130    60105667099  20506.0   \n",
       "4   10006738        StMary@saintly.com         81   233574250244  20685.0   \n",
       "\n",
       "           INFO_2  CURRENCYID          CREATE_DATE  STATUS   AUTH_ID  \\\n",
       "0    68.194.7.230           1  07/01/2015 02:48:44       2  10006305   \n",
       "1   113.160.61.98           1  07/01/2015 02:51:42       2  10006306   \n",
       "2  63.141.217.172           1  07/01/2015 08:25:49       2  10006365   \n",
       "3  118.101.133.80           1  07/01/2015 08:40:18       2  10006373   \n",
       "4   41.215.170.82           1  07/01/2015 10:31:41       2  10006430   \n",
       "\n",
       "   TOKEN_ID  ACCOUNT_ID     \n",
       "0      6755     5605729     \n",
       "1      6756     5605730     \n",
       "2      6815     5605789     \n",
       "3      6823     5605797     \n",
       "4      6880     5605854     "
      ]
     },
     "execution_count": 507,
     "metadata": {},
     "output_type": "execute_result"
    }
   ],
   "source": [
    "combined_df.head()"
   ]
  },
  {
   "cell_type": "code",
   "execution_count": 508,
   "metadata": {
    "collapsed": false
   },
   "outputs": [],
   "source": [
    "ip_status = combined_df.groupby([\"INFO_2\",\"STATUS\"]).count()[\"EMAIL\"]\n",
    "ip_ = combined_df.groupby([\"INFO_2\"]).count()[\"EMAIL\"]\n",
    "Email_Status = combined_df.groupby([\"EMAIL\",\"STATUS\"]).count()[\"INFO_2\"]\n",
    "Email_ = combined_df.groupby([\"EMAIL\"]).count()[\"INFO_2\"]"
   ]
  },
  {
   "cell_type": "code",
   "execution_count": 509,
   "metadata": {
    "collapsed": false
   },
   "outputs": [],
   "source": [
    "dummy1=ip_status.sort_values(ascending=False)"
   ]
  },
  {
   "cell_type": "code",
   "execution_count": 510,
   "metadata": {
    "collapsed": false
   },
   "outputs": [],
   "source": [
    "dummy2=ip_.sort_values(ascending=False)"
   ]
  },
  {
   "cell_type": "code",
   "execution_count": 511,
   "metadata": {
    "collapsed": false
   },
   "outputs": [
    {
     "data": {
      "text/plain": [
       "INFO_2          STATUS\n",
       "193.0.206.250   2         149\n",
       "130.180.210.43  0         110\n",
       "103.62.143.94   2          89\n",
       "103.57.40.82    2          88\n",
       "201.56.54.2     0          85\n",
       "Name: EMAIL, dtype: int64"
      ]
     },
     "execution_count": 511,
     "metadata": {},
     "output_type": "execute_result"
    }
   ],
   "source": [
    "dummy1.head()"
   ]
  },
  {
   "cell_type": "code",
   "execution_count": 512,
   "metadata": {
    "collapsed": false
   },
   "outputs": [
    {
     "data": {
      "text/plain": [
       "INFO_2\n",
       "193.0.206.250     169\n",
       "201.56.54.2       117\n",
       "130.180.210.43    111\n",
       "103.62.143.94     100\n",
       "103.57.40.82       89\n",
       "Name: EMAIL, dtype: int64"
      ]
     },
     "execution_count": 512,
     "metadata": {},
     "output_type": "execute_result"
    }
   ],
   "source": [
    "dummy2.head()"
   ]
  },
  {
   "cell_type": "markdown",
   "metadata": {},
   "source": [
    "### Here we can see 201.56.54.2 IP-adress tried to signup many times with status 0, which could be a sign of fraud"
   ]
  },
  {
   "cell_type": "code",
   "execution_count": 517,
   "metadata": {
    "collapsed": false
   },
   "outputs": [
    {
     "data": {
      "text/plain": [
       "EMAIL                    STATUS\n",
       "kolj78@mail.ru           0         169\n",
       "srysrs@mail.ru           0          26\n",
       "mounika@riktamtech.com   0          23\n",
       "serawe@mail.ru           0          20\n",
       "hammad2148127@gmail.com  0          19\n",
       "Name: INFO_2, dtype: int64"
      ]
     },
     "execution_count": 517,
     "metadata": {},
     "output_type": "execute_result"
    }
   ],
   "source": [
    "Email_Status.sort_values(ascending=False)[:5]"
   ]
  },
  {
   "cell_type": "code",
   "execution_count": 518,
   "metadata": {
    "collapsed": false
   },
   "outputs": [
    {
     "data": {
      "text/plain": [
       "EMAIL\n",
       "kolj78@mail.ru            169\n",
       "mounika@riktamtech.com     34\n",
       "srysrs@mail.ru             26\n",
       "serawe@mail.ru             20\n",
       "dyrsry@mail.ru             19\n",
       "Name: INFO_2, dtype: int64"
      ]
     },
     "execution_count": 518,
     "metadata": {},
     "output_type": "execute_result"
    }
   ],
   "source": [
    "Email_.sort_values(ascending=False)[:5]"
   ]
  },
  {
   "cell_type": "markdown",
   "metadata": {},
   "source": [
    "### kolj78@mail.ru also has many attempts with status zero from same IP address"
   ]
  },
  {
   "cell_type": "markdown",
   "metadata": {},
   "source": [
    "Email id and IP-address showing multiple attempts can show the sign of fraud signup.\n",
    "whereas the combination of both can tell us how many attempts a user with same email id and ip-address has attempted to signup.\n",
    "\n",
    "If these attempts results in Status 0,1 and 2 . it can clearly show the attempts and which were fraud and which weren't.\n",
    "Since a single emailid from a particular IP-address might not attempt many times."
   ]
  },
  {
   "cell_type": "code",
   "execution_count": null,
   "metadata": {
    "collapsed": true
   },
   "outputs": [],
   "source": []
  }
 ],
 "metadata": {
  "kernelspec": {
   "display_name": "Python 3",
   "language": "python",
   "name": "python3"
  },
  "language_info": {
   "codemirror_mode": {
    "name": "ipython",
    "version": 3
   },
   "file_extension": ".py",
   "mimetype": "text/x-python",
   "name": "python",
   "nbconvert_exporter": "python",
   "pygments_lexer": "ipython3",
   "version": "3.6.0"
  }
 },
 "nbformat": 4,
 "nbformat_minor": 2
}
